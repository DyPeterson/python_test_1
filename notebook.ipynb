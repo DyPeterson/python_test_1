{
 "cells": [
  {
   "cell_type": "code",
   "execution_count": 2,
   "metadata": {},
   "outputs": [
    {
     "name": "stdout",
     "output_type": "stream",
     "text": [
      "{100: Name:Bob Dylan Dob:5-24-1942 Genre: Folk ID:100, 101: Name:Paula Abdul Dob:6-19-1962 Genre: Pop ID:101, 102: Name:Cab Calloway Dob:12-25-1907 Genre: Jazz ID:102, 103: Name:Jeremy Bolm Dob:4-06-1983 Genre: Hardcore ID:103}\n"
     ]
    },
    {
     "data": {
      "text/plain": [
       "True"
      ]
     },
     "execution_count": 2,
     "metadata": {},
     "output_type": "execute_result"
    }
   ],
   "source": [
    "class Artists:\n",
    "    artists_seq = 100\n",
    "    def __init__(self, name, dob, genre):\n",
    "        self.name = name\n",
    "        self.dob = dob\n",
    "        self.genre = genre\n",
    "        self.artist_id = Artists.artists_seq\n",
    "        Artists.artists_seq += 1\n",
    "    def __repr__(self):\n",
    "        return f\"Name:{self.name} Dob:{self.dob} Genre: {self.genre} ID:{self.artist_id}\"\n",
    "    def art_print(self):\n",
    "        print(f\"Name:{self.name} Dob:{self.dob} ID:{self.artist_id}\")\n",
    "        return self.artist_id\n",
    "\n",
    "class Songs(Artists):\n",
    "    def __init__(self, title, artist, length, lyrics):\n",
    "        super().__init__(artist, None, None)\n",
    "        self.title = title\n",
    "        self.artist = artist\n",
    "        self.length = length\n",
    "        self.lyrics = lyrics\n",
    "    def __repr__(self):\n",
    "        if self.artist == Artists.name:\n",
    "            return f\"{Songs.artist} has a song in our database!\"\n",
    "# print the artists name and say it exists in the database. Later take user input here.\n",
    "artist1 = Artists(\"Bob Dylan\", \"5-24-1942\", \"Folk\")\n",
    "artist2 = Artists(\"Paula Abdul\", \"6-19-1962\", \"Pop\")\n",
    "artist3 = Artists(\"Cab Calloway\", \"12-25-1907\", \"Jazz\")\n",
    "artist4 = Artists(\"Jeremy Bolm\", \"4-06-1983\", \"Hardcore\")\n",
    "song1 = Songs(\"The Times They Are A-Changin'\",\"Bob Dylan\",\"3:12\",\"Come gather 'round people Wherever you roam And admit that the waters Around you have grown And accept it that soon You'll be drenched to the bone If your time to you is worth savin' Then you better start swimmin' Or you'll sink like a stone For the times they are a-changin'\")\n",
    "song2 = Songs(\"Straight Up\",\"Paula Abdul\",\"4:11\",\"Lost in a dream I don't know which way to go. (A-let me say it.) If you are all that you seem Then, baby, I'm movin' way too slow.\")\n",
    "song3 = Songs(\"Mama Tried\",\"Merle Haggard\",\"2:14\",\"The first thing I remember knowing Was a lonesome whistle blowing And a young'un's dream of growing up to ride On a freight train leaving town Not knowing where I'm bound And no one could change my mind but Mama tried\")\n",
    "artist_dict = {\n",
    "    artist1.artist_id : artist1,\n",
    "    artist2.artist_id : artist2,\n",
    "    artist3.artist_id : artist3,\n",
    "    artist4.artist_id : artist4,\n",
    "}\n",
    "print(artist_dict)\n",
    "#### VALIDATION FUNCTIONS ####\n",
    "## See if an artist exists in the list of artists ##\n",
    "value = artist_dict.values()\n",
    "def valid_artist(value):\n",
    "    while value != artist_dict.values():\n",
    "        return True\n",
    "    else: \n",
    "        return False\n",
    "        # if values == artist_dict.values():\n",
    "        #     return True\n",
    "        # else:\n",
    "        #     return False\n",
    "valid_artist(artist1)\n",
    "\n",
    "\n",
    "\n",
    "## Check whether a song is created by a particular artist ##\n",
    "# def valid_song():\n"
   ]
  }
 ],
 "metadata": {
  "interpreter": {
   "hash": "2cbd59333f41148fc5b57442762b9e1807b8a56cb9579ba78e66767bc37e9fb6"
  },
  "kernelspec": {
   "display_name": "Python 3.7.13 ('venv': venv)",
   "language": "python",
   "name": "python3"
  },
  "language_info": {
   "codemirror_mode": {
    "name": "ipython",
    "version": 3
   },
   "file_extension": ".py",
   "mimetype": "text/x-python",
   "name": "python",
   "nbconvert_exporter": "python",
   "pygments_lexer": "ipython3",
   "version": "3.7.13"
  },
  "orig_nbformat": 4
 },
 "nbformat": 4,
 "nbformat_minor": 2
}
