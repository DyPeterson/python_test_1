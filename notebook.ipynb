{
 "cells": [
  {
   "cell_type": "code",
   "execution_count": 27,
   "metadata": {},
   "outputs": [
    {
     "name": "stdout",
     "output_type": "stream",
     "text": [
      "<__main__.Artists object at 0x7f1abe262550>\n",
      "ID:10\n",
      "ID:11\n"
     ]
    }
   ],
   "source": [
    "class Artists:\n",
    "    artist_seq = 10\n",
    "    def __init__(self, name, dob, genre):\n",
    "        self.name = name\n",
    "        self.dob = dob\n",
    "        self.genre = genre\n",
    "        self.artist_id = Artists.artist_seq\n",
    "        Artists.artist_seq += 1\n",
    "\n",
    "    def art_print(self):\n",
    "        print(f\"ID:{self.artist_id}\")\n",
    "\n",
    "class Songs:\n",
    "    def __init__(self, artist, title, length, lyrics):\n",
    "        self.artist = artist\n",
    "        self.title = title\n",
    "        self.length = length\n",
    "        self.lyrics = lyrics\n",
    "\n",
    "\n",
    "artist1 = Artists(\"Bob Dylan\", \"5-24-1942\", \"Folk\",)\n",
    "artist2 = Artists(\"Paula Abdul\", \"6-19-1962\", \"Pop\")\n",
    "artist3 = Artists(\"Cab Calloway\", \"12-25-1907\", \"Jazz\")\n",
    "artist_dict = {\n",
    "    Artists.artist_seq : \"Bob Dylan\",\n",
    "    Artists.artist_seq : \"Paula Abdul\",\n",
    "    Artists.artist_seq : \"Cab Calloway\",\n",
    "}\n",
    "# print(Artists.artist_id)\n",
    "print(artist1)\n",
    "Artists.art_print(artist1)\n",
    "Artists.art_print(artist2)"
   ]
  }
 ],
 "metadata": {
  "interpreter": {
   "hash": "2cbd59333f41148fc5b57442762b9e1807b8a56cb9579ba78e66767bc37e9fb6"
  },
  "kernelspec": {
   "display_name": "Python 3.7.13 ('venv': venv)",
   "language": "python",
   "name": "python3"
  },
  "language_info": {
   "codemirror_mode": {
    "name": "ipython",
    "version": 3
   },
   "file_extension": ".py",
   "mimetype": "text/x-python",
   "name": "python",
   "nbconvert_exporter": "python",
   "pygments_lexer": "ipython3",
   "version": "3.7.13"
  },
  "orig_nbformat": 4
 },
 "nbformat": 4,
 "nbformat_minor": 2
}
