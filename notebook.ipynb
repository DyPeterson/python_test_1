{
 "cells": [
  {
   "cell_type": "code",
   "execution_count": 82,
   "metadata": {},
   "outputs": [
    {
     "name": "stdout",
     "output_type": "stream",
     "text": [
      "1 1\n",
      "1\n",
      "Stuffs 1 Bob Dylan 5-24-1942 Folk\n",
      "Stuffs 1 Paula Abdul 6-19-1962 Pop\n",
      "<__main__.Artists object at 0x7f1abe2df990>\n",
      "ID:1\n",
      "ID:1\n",
      "ID:1\n",
      "ID:1\n"
     ]
    }
   ],
   "source": [
    "class Artists:\n",
    "    artist_seq = 100\n",
    "    def __init__(self, name, dob, genre):\n",
    "        self.name = name\n",
    "        self.dob = dob\n",
    "        self.genre = genre\n",
    "        self.artist_id = Artists.artist_seq\n",
    "        Artists.artist_seq =+ 1\n",
    "\n",
    "    def art_print(self):\n",
    "        print(f\"ID:{self.artist_id}\")\n",
    "\n",
    "class Songs:\n",
    "    def __init__(self, artist, title, length, lyrics):\n",
    "        self.artist = artist\n",
    "        self.title = title\n",
    "        self.length = length\n",
    "        self.lyrics = lyrics\n",
    "        # check if self.artist is = Artists.name\n",
    "        # if self.artist == Artists.name:\n",
    "        #   print(f\"{self.artist} has a song in our database!\")\n",
    "        # # print the artists name and say it exists in the database.\n",
    "        # else:\n",
    "        #     print(f\"Sorry no songs for {self.artist} exists in our database\")\n",
    "\n",
    "\n",
    "artist1 = Artists(\"Bob Dylan\", \"5-24-1942\", \"Folk\")\n",
    "artist2 = Artists(\"Paula Abdul\", \"6-19-1962\", \"Pop\")\n",
    "artist3 = Artists(\"Cab Calloway\", \"12-25-1907\", \"Jazz\")\n",
    "artist4 = Artists(\"Jeremy Bolm\", \"4-06-1983\", \"Hardcore\")\n",
    "song1 = Songs(\"The Times They Are A-Changin'\",\"Bob Dylan\",\"3:12\",\"Come gather 'round people Wherever you roam And admit that the waters Around you have grown And accept it that soon You'll be drenched to the bone If your time to you is worth savin' Then you better start swimmin' Or you'll sink like a stone For the times they are a-changin'\")\n",
    "song2 = Songs(\"Straight Up\",\"Paula Abdul\",\"4:11\",\"Lost in a dream I don't know which way to go. (A-let me say it.) If you are all that you seem Then, baby, I'm movin' way too slow.\")\n",
    "song3 = Songs(\"Mama Tried\",\"Merle Haggard\",\"2:14\",\"The first thing I remember knowing Was a lonesome whistle blowing And a young'un's dream of growing up to ride On a freight train leaving town Not knowing where I'm bound And no one could change my mind but Mama tried\")\n",
    "artist_dict = {\n",
    "    artist1.artist_id : artist1,\n",
    "    artist2.artist_seq : artist2,\n",
    "    artist3.artist_seq : artist3,\n",
    "    artist4.artist_seq : artist4,\n",
    "}\n",
    "# for key in artist_dict:\n",
    "#     artist = Artists(name, dob, genre)\n",
    "#     artist_id = f\"{key}\"\n",
    "#     print(key)\n",
    "print(artist1.artist_id, artist2.artist_id)\n",
    "print(artist2.artist_id)\n",
    "print(f\"Stuffs {artist1.artist_seq} {artist1.name} {artist1.dob} {artist1.genre}\")\n",
    "print(f\"Stuffs {artist2.artist_seq} {artist2.name} {artist2.dob} {artist2.genre}\")\n",
    "print(artist_dict[artist1.artist_seq])\n",
    "Artists.art_print(artist1)\n",
    "Artists.art_print(artist2)\n",
    "Artists.art_print(artist3)\n",
    "Artists.art_print(artist4)"
   ]
  }
 ],
 "metadata": {
  "interpreter": {
   "hash": "2cbd59333f41148fc5b57442762b9e1807b8a56cb9579ba78e66767bc37e9fb6"
  },
  "kernelspec": {
   "display_name": "Python 3.7.13 ('venv': venv)",
   "language": "python",
   "name": "python3"
  },
  "language_info": {
   "codemirror_mode": {
    "name": "ipython",
    "version": 3
   },
   "file_extension": ".py",
   "mimetype": "text/x-python",
   "name": "python",
   "nbconvert_exporter": "python",
   "pygments_lexer": "ipython3",
   "version": "3.7.13"
  },
  "orig_nbformat": 4
 },
 "nbformat": 4,
 "nbformat_minor": 2
}
